{
  "cells": [
    {
      "cell_type": "markdown",
      "id": "b8e5ed62",
      "metadata": {
        "id": "b8e5ed62"
      },
      "source": [
        "<div>\n",
        "<img src=\"https://drive.google.com/uc?export=view&id=1vK33e_EqaHgBHcbRV_m38hx6IkG0blK_\" width=\"350\"/>\n",
        "</div>\n",
        "\n",
        "# Artificial Intelligence - MSc\n",
        "\n",
        "## CS6512 - AI & Data Science Ecosystems - Theory and Practice\n",
        "## SEM2 2022/3\n",
        "\n",
        "### CS6512 Etivity 1 - Linear and Nonlinear Programming\n",
        "\n",
        "### Instructor: Emil Vassev\n",
        "March 27th, 2023\n",
        "<br><br>\n",
        "Copyright (C) 2023 - All rights reserved, do not copy or distribute without permission of the author.\n",
        "***"
      ]
    },
    {
      "cell_type": "markdown",
      "id": "6c2603d7",
      "metadata": {
        "id": "6c2603d7"
      },
      "source": [
        "## Submission Info\n",
        "### Student Name: Paul\n",
        "### Student Surname: Trayers\n",
        "### Student ID: 8907021\n",
        "### Date of Final Submission: Apr 21 2024\n",
        "***"
      ]
    },
    {
      "cell_type": "markdown",
      "id": "a2b8d751",
      "metadata": {
        "id": "a2b8d751"
      },
      "source": [
        "## Task\n",
        "In this e-tivity, you are asked to determine the components of a linear/non-linear programming problem, and then to implement in Python a program that will solve that problem by using the <b>scipy.optimize</b> library. Please, consult the lectures of Week #10 for more details on how we determine the components of a linear/non-linear programming problem and also, how we implement linear/non-linear programs in Python. The program you are going to implement is based on a real-life scenario, which is invented by the author of this assignment and thus, the numbers provided are fictive.\n",
        "## The real-life scenario\n",
        "Mazda Motor Corporation produces three models of its CX series: Mazda CX-3, Mazda CX-5, and Mazda CX-9 (for simplicity, in this scenario we ignore the new models like CX-30, CX-50, etc.). Market projections indicate an expected monthly demand of at least: 3500 cars of the CX-3 model, 5000 cars of the CX-5 model, and 2100 cars of the CX-9 model.  Due to insufficient production capacity, no more than 4000 cars can be made of model CX-3, no more than 7000 cars can be made of model CX-5, and no more than 2500 cars can be made of model CX-9. Due to existing contracts with car dealers worldwide, a total of at least 12000 cars must be produced each month. Here is the financial result calculated as production costs – selling costs per model:\n",
        "<li>CX-3: EUR 3400 profit</li>\n",
        "<li>CX-5: EUR 2500 loss</li>\n",
        "<li>CX-9: EUR 7200 profit</li>\n",
        "<br>\n",
        "How many cars of each Mazda CX model should be produced monthly, so to maximize the total net profit?  \n",
        "<br><br>\n",
        "<span style=\"color:blue\">The author of this assignment drives Mazda CX-5, 2021, and he loves it! He is convinced this car is undervalued. :)</span>"
      ]
    },
    {
      "cell_type": "markdown",
      "id": "903e119a",
      "metadata": {
        "id": "903e119a"
      },
      "source": [
        "## Here are the steps you need to follow:"
      ]
    },
    {
      "cell_type": "markdown",
      "id": "a2788722",
      "metadata": {
        "id": "a2788722"
      },
      "source": [
        "## Step 1: Determine the programming problem: linear or non-linear.  (5%)"
      ]
    },
    {
      "cell_type": "markdown",
      "source": [
        "### 1.1 Overview\n",
        "\n",
        "Summarizing projected monthly figures for expected demand, production capacity and net profit for each model as well as minimum total production contractual requirement:\n",
        "\n",
        "| Model | Expected Demand    | Production Units     | Profit/Loss per Unit |\n",
        "| ---   | ---       | ---       | ---      |\n",
        "| CX-3  | >= 3500   | <= 4000   | 3400     |\n",
        "| CX-5  | >= 5000   | <= 7000   | (2500)   |\n",
        "| CX-9  | >= 2100   | <= 2500   | 7200     |\n",
        "| **Total** |           | >= 12000  |          |\n",
        "\n",
        "\n",
        "### 1.2 Decision Variables\n",
        "\n",
        "Define the decision variables\n",
        "\n",
        "* `x1`: number of units of CX-3 to be manufactured per month\n",
        "* `x2`: number of units of CX-5 to be manufactured per month\n",
        "* `x3`: number of units of CX-9 to be manufactured per month\n",
        "\n",
        "### 1.3 Objective Function\n",
        "\n",
        "Define the objective function - maximize the total profit per month\n",
        "\n",
        "* `max z , z = 3400x1 - 2500x2 + 7200x3`\n",
        "\n",
        "This is a linear combination of the decision variables of the form $c_1x_1 + c_2x_2 + c_3x_3$ (where $c_i$ are constants), so it is a **linear** objective function.\n",
        "\n",
        "### 1.4 Constraints:\n",
        "\n",
        "Define constraints to be satisfied by `x1`, `x2` and `x3`;\n",
        "\n",
        "* Demand constraints:\n",
        "\n",
        "  `x1 >= 3500; x1 >= 5000; x1 >= 2100`\n",
        "\n",
        "* Production capacity constraints:\n",
        "\n",
        "  `x1 <= 4000; x2 <= 7000; x3 <= 2500`\n",
        "\n",
        "* Total production constraints:\n",
        "\n",
        "  `(x1 + x2 + x3) >= 12000`\n",
        "\n",
        "* Non-negative constraints:\n",
        "\n",
        "  `x1, x2, x3 >= 0`\n",
        "\n",
        "  Constraints are all **linear**.\n",
        "\n",
        "### 1.5 Linearity\n",
        "\n",
        "In a non-linear programming problem, at least one of the objective function or the constraints would be non-linear functions of the decision variables e.g. variables multiplied by each other or raised to powers, quadratic, exponential, or trigonometric functions etc.\n",
        "\n",
        "In this problem, there are no non-linear functions present. Since both the objective function and all the constraints are linear, this problem can be classified as a **linear** programming problem."
      ],
      "metadata": {
        "id": "xERQl_srKK6N"
      },
      "id": "xERQl_srKK6N"
    },
    {
      "cell_type": "markdown",
      "id": "6b20db4c",
      "metadata": {
        "id": "6b20db4c"
      },
      "source": [
        "## Step 2: Define the components of the LPP/NLPP tuple  <D, f, Fc , C, Cn, R, Tc>. (45%)"
      ]
    },
    {
      "cell_type": "markdown",
      "source": [
        "### Components of the Linear Programming Problem\n",
        "\n",
        "Re-stating the objective function and constraints;\n",
        "\n",
        "Objective Function:\n",
        "`max[z], z = 3400x1 - 2500x2 + 7200x3`\n",
        "\n",
        "Subject to:\n",
        "* `3500 <= x1 <= 4000; 5000 <= x2 <= 7000; 2100 <= x3 <= 2500`\n",
        "* `x1 + x2 + x3 >= 12000`\n",
        "* `x1 >= 0`, `x2 >= 0`, `x3 >= 0`"
      ],
      "metadata": {
        "id": "fpt7oO7JI_qP"
      },
      "id": "fpt7oO7JI_qP"
    },
    {
      "cell_type": "markdown",
      "source": [
        "Now, setting out problem components;\n",
        "\n",
        "* $D$ - *decision variables:* `D = {x1, x2, x3}`\n",
        "* $f$ - *objective function:* `max[f(x)] = max[3400x1 - 2500x2 + 7200x3]`\n",
        "* $F_{c}$ - *objective function coefficients:* `Fc = {3400:x1, -2500:x2, 7200:x3}`\n",
        "* $C$ - *constraints:*  `C = {3500 <= x1 <= 4000, 5000 <= x2 <= 7000, 2100 <= x3 <= 2500, (x1 + x2 + x3) >= 12000}`\n",
        "* $C_{n}$ - *non-negative constraints:* `Cn = {x1 >= 0, x2 >= 0, x3 >= 0}`\n",
        "* $R$ - *resource availability:* `R = {3500, 4000, 5000, 7000, 2100, 2500, 12000}`\n",
        "* $T_{c}$ - *technological coefficients:* `Tc = ({1, 0, 0} {0, 1, 0} {0, 0, 1} {1, 1, 1})`"
      ],
      "metadata": {
        "id": "y3ctPJI5Jr4v"
      },
      "id": "y3ctPJI5Jr4v"
    },
    {
      "cell_type": "markdown",
      "id": "ab29788f",
      "metadata": {
        "id": "ab29788f"
      },
      "source": [
        "### Step 2.1: D - Decision Variables (5%)"
      ]
    },
    {
      "cell_type": "markdown",
      "id": "dc9249ff",
      "metadata": {
        "id": "dc9249ff"
      },
      "source": [
        "The decision variables are defined to determine the optimal production level of each Mazda CX model that maximizes monthly profit. These variables are:\n",
        "\n",
        "* `x1`: number of units of CX-3 to be manufactured per month\n",
        "* `x2`: number of units of CX-5 to be manufactured per month\n",
        "* `x3`: number of units of CX-9 to be manufactured per month"
      ]
    },
    {
      "cell_type": "markdown",
      "id": "ee5b9a4b",
      "metadata": {
        "id": "ee5b9a4b"
      },
      "source": [
        "### Step 2.2: f - Objective Function (20%)"
      ]
    },
    {
      "cell_type": "markdown",
      "id": "273fa454",
      "metadata": {
        "id": "273fa454"
      },
      "source": [
        "The objective function is crafted to maximize the net profit from the production of Mazda CX series cars, calculated as the sum of profit or loss generated per unit of each model:\n",
        "\n",
        "* Objective Function: `max[z], z = 3400*x1 - 2500*x2 + 7200*x3`"
      ]
    },
    {
      "cell_type": "markdown",
      "id": "c0ecd215",
      "metadata": {
        "id": "c0ecd215"
      },
      "source": [
        "### Step 2.3: Fc - Objective Function Coefficients (3%)"
      ]
    },
    {
      "cell_type": "markdown",
      "id": "733c086d",
      "metadata": {
        "id": "733c086d"
      },
      "source": [
        "The coefficients in the objective function represent the profit or loss per unit for each car model, which influences the overall financial outcome:\n",
        "\n",
        "* $F_{c}$ *objective function coefficients* - `Fc = {3400:x1, -2500:x2, 7200:x3}`"
      ]
    },
    {
      "cell_type": "markdown",
      "id": "c4a839dc",
      "metadata": {
        "id": "c4a839dc"
      },
      "source": [
        "### Step 2.4: C - Constraints (10%)"
      ]
    },
    {
      "cell_type": "markdown",
      "id": "19930204",
      "metadata": {
        "id": "19930204"
      },
      "source": [
        "The constraints include both production capacity limits and market demand requirements, ensuring feasible and realistic production plans:\n",
        "\n",
        "* $C$ *constraints* -  `C = {3500 <= x1 <= 4000; 5000 <= x2 <= 7000; 2100 <= x3 <= 2500; (x1 + x2 + x3) >= 12000}`"
      ]
    },
    {
      "cell_type": "markdown",
      "id": "69acd9ae",
      "metadata": {
        "id": "69acd9ae"
      },
      "source": [
        "### Step 2.5: Cn – Non-negative Constraints (3%)"
      ]
    },
    {
      "cell_type": "markdown",
      "id": "532900c7",
      "metadata": {
        "id": "532900c7"
      },
      "source": [
        "To ensure realistic production values, all decision variables must be non-negative, as negative production values are not feasible:\n",
        "\n",
        "* $C_{n}$ *non-negative constraints* - `Cn = {x1 >= 0, x2 >= 0; x3 >= 0}`"
      ]
    },
    {
      "cell_type": "markdown",
      "id": "d484e3ed",
      "metadata": {
        "id": "d484e3ed"
      },
      "source": [
        "### Step 2.6: R – Resource Availability (2%)"
      ]
    },
    {
      "cell_type": "markdown",
      "id": "8a422b58",
      "metadata": {
        "id": "8a422b58"
      },
      "source": [
        "Resource availability quantifies the range within which each model can be produced, reflecting the minimum and maximum production capacities and the overall production requirement:\n",
        "\n",
        "* $R$ *resource availability* - `R = {3500, 4000, 5000, 7000, 2100, 2500, 12000}`"
      ]
    },
    {
      "cell_type": "markdown",
      "id": "74d4adbf",
      "metadata": {
        "id": "74d4adbf"
      },
      "source": [
        "### Step 2.7: Tc – Technological Coefficients (2%)"
      ]
    },
    {
      "cell_type": "markdown",
      "id": "ef778b33",
      "metadata": {
        "id": "ef778b33"
      },
      "source": [
        "Technological coefficients represent the contribution of each decision variable (car model) to the constraints, specifically the total production constraint, reflecting how each unit of production contributes to meeting the total production requirement:\n",
        "\n",
        "* $T_{c}$ *technological coefficients* - `Tc = ({1, 0, 0} {0, 1, 0} {0, 0, 1} {1, 1, 1})`"
      ]
    },
    {
      "cell_type": "markdown",
      "id": "e9de73a9",
      "metadata": {
        "id": "e9de73a9"
      },
      "source": [
        "## Step 3: Implement the LPP/NLPP in Python by using scipy.optimize as shown in the lectures. (50%)"
      ]
    },
    {
      "cell_type": "markdown",
      "id": "d4e74f18",
      "metadata": {
        "id": "d4e74f18"
      },
      "source": [
        "Use the <b>scipy.optimize</b> library to implement a program that will solve the linear/non-linear programming problem specified in Step 2."
      ]
    },
    {
      "cell_type": "markdown",
      "id": "bd3ae2ef",
      "metadata": {
        "id": "bd3ae2ef"
      },
      "source": [
        "### Step 3.1: Implement the programming model. (40%)"
      ]
    },
    {
      "cell_type": "markdown",
      "source": [
        "Implement the linear programming model."
      ],
      "metadata": {
        "id": "OhDW7SE6uHXd"
      },
      "id": "OhDW7SE6uHXd"
    },
    {
      "cell_type": "code",
      "execution_count": 21,
      "id": "c350d2fb",
      "metadata": {
        "id": "c350d2fb"
      },
      "outputs": [],
      "source": [
        "import numpy as np\n",
        "from scipy.optimize import linprog\n",
        "\n",
        "# Coefficients of the objective function\n",
        "# linprog minimizes by default, so signs reversed for maximization\n",
        "c = [-3400, 2500, -7200]\n",
        "\n",
        "# Coefficients for inequality constraints (A*x <= b)\n",
        "# Transform >= to <= inequalities\n",
        "A = [[-1,  0,  0],  # x1 >= 3500, −x1 <= −3500\n",
        "     [ 1,  0,  0],  # x1 <= 4000\n",
        "     [ 0, -1,  0],  # x2 >= 5000, -x2 <= -5000\n",
        "     [ 0,  1,  0],  # x2 <= 7000\n",
        "     [ 0,  0, -1],  # x3 >= 2100, -x3 <= -2100\n",
        "     [ 0,  0,  1],  # x3 <= 2500\n",
        "     [-1, -1, -1]]  # x1 + x2 + x3 >= 12000, -x1 -x2 -x3 <= -12000 (total production at least 12000)\n",
        "\n",
        "b = [-3500, 4000, -5000, 7000, -2100, 2500, -12000]  # Right-hand side of constraints\n",
        "\n",
        "# Bounds for each variable (production limits)\n",
        "bnds = [(3500, 4000), (5000, 7000), (2100, 2500)]\n",
        "\n",
        "#bnds = [(0, None), (0, None), (0, None)]  # All variables must be non-negative"
      ]
    },
    {
      "cell_type": "markdown",
      "source": [
        "In setting out the problem above we negate profit figure for the CX-3 and CX-9 to fit the minimization framework of linprog. The CX-5 loss is added as-is, so that the objective is to produce fewer of this model while still meeting total production minimums to minimize the overall negative impact on profit."
      ],
      "metadata": {
        "id": "4LeGx8xSzBy2"
      },
      "id": "4LeGx8xSzBy2"
    },
    {
      "cell_type": "markdown",
      "id": "9fc20d41",
      "metadata": {
        "id": "9fc20d41"
      },
      "source": [
        "### Step 3.2: Execute the programming model. (8%)"
      ]
    },
    {
      "cell_type": "code",
      "execution_count": 22,
      "id": "b4241adf",
      "metadata": {
        "colab": {
          "base_uri": "https://localhost:8080/"
        },
        "id": "b4241adf",
        "outputId": "b9ad2e89-f42b-44b0-8397-808132d356cb"
      },
      "outputs": [
        {
          "output_type": "stream",
          "name": "stdout",
          "text": [
            "        message: Optimization terminated successfully. (HiGHS Status 7: Optimal)\n",
            "        success: True\n",
            "         status: 0\n",
            "            fun: -17850000.0\n",
            "              x: [ 4.000e+03  5.500e+03  2.500e+03]\n",
            "            nit: 0\n",
            "          lower:  residual: [ 4.000e+03  5.500e+03  2.500e+03]\n",
            "                 marginals: [ 0.000e+00  0.000e+00  0.000e+00]\n",
            "          upper:  residual: [       inf        inf        inf]\n",
            "                 marginals: [ 0.000e+00  0.000e+00  0.000e+00]\n",
            "          eqlin:  residual: []\n",
            "                 marginals: []\n",
            "        ineqlin:  residual: [ 5.000e+02  0.000e+00  5.000e+02  1.500e+03\n",
            "                              4.000e+02  0.000e+00  0.000e+00]\n",
            "                 marginals: [-0.000e+00 -5.900e+03 -0.000e+00 -0.000e+00\n",
            "                             -0.000e+00 -9.700e+03 -2.500e+03]\n",
            " mip_node_count: 0\n",
            " mip_dual_bound: 0.0\n",
            "        mip_gap: 0.0\n"
          ]
        }
      ],
      "source": [
        "# Solve the problem\n",
        "result = linprog(c,\n",
        "                 A_ub=A,\n",
        "                 b_ub=b,\n",
        "                 bounds=bnds,\n",
        "                 method='highs')  # `revised simplex` deprecated\n",
        "print(result)"
      ]
    },
    {
      "cell_type": "markdown",
      "id": "b6b85948",
      "metadata": {
        "id": "b6b85948"
      },
      "source": [
        "### Step 3.3: Show the result of your program's execution. (2%)"
      ]
    },
    {
      "cell_type": "code",
      "execution_count": 23,
      "id": "9c60a865",
      "metadata": {
        "colab": {
          "base_uri": "https://localhost:8080/"
        },
        "id": "9c60a865",
        "outputId": "8fda8ec9-0294-4d44-bbb0-3cfd270ceecb"
      },
      "outputs": [
        {
          "output_type": "stream",
          "name": "stdout",
          "text": [
            "Optimal production numbers: [4000. 5500. 2500.]\n",
            "Maximum profit: 17850000.0\n"
          ]
        }
      ],
      "source": [
        "# Display results\n",
        "if result.success:\n",
        "    print(\"Optimal production numbers:\", result.x)\n",
        "    print(\"Maximum profit:\", -result.fun)\n",
        "else:\n",
        "    print(\"Optimization was not successful. Reason:\", result.message)"
      ]
    },
    {
      "cell_type": "code",
      "source": [],
      "metadata": {
        "id": "DKtRPBoUPbbK"
      },
      "id": "DKtRPBoUPbbK",
      "execution_count": null,
      "outputs": []
    }
  ],
  "metadata": {
    "kernelspec": {
      "display_name": "Python 3 (ipykernel)",
      "language": "python",
      "name": "python3"
    },
    "language_info": {
      "codemirror_mode": {
        "name": "ipython",
        "version": 3
      },
      "file_extension": ".py",
      "mimetype": "text/x-python",
      "name": "python",
      "nbconvert_exporter": "python",
      "pygments_lexer": "ipython3",
      "version": "3.9.7"
    },
    "colab": {
      "provenance": []
    }
  },
  "nbformat": 4,
  "nbformat_minor": 5
}