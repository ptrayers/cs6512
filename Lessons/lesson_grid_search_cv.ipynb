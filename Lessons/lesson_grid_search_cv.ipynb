{
 "cells": [
  {
   "cell_type": "markdown",
   "id": "c66e7524",
   "metadata": {},
   "source": [
    "\n",
    "# Grid Search CV\n",
    "\n",
    "by Emil Vassev\n",
    "\n",
    "October 3, 2022, October 5, 2022\n",
    "<br><br>\n",
    "Copyright (C) 2022 - All rights reserved, do not copy or distribute without permission of the author.\n",
    "***"
   ]
  },
  {
   "cell_type": "markdown",
   "id": "5b41a5c9",
   "metadata": {},
   "source": [
    "## Optimization Problem \n",
    "* A process about maximizing or minimizing a function by systematically choosing input values from a set, so to compute an optimal value of that function.\n",
    "* The process of adjusting **hyperparameters** in order to minimize the cost (loss) function by using one of the optimization techniques"
   ]
  },
  {
   "cell_type": "markdown",
   "id": "b2589617",
   "metadata": {},
   "source": [
    "## Hyperparameters \n",
    "* describe the structure of the model\n",
    "* need to be set before starting to train the model\n",
    "* model hyperparameters and  algorithm hyperparameters\n",
    "* examples: model (topology and size of a neural network), algorithm (learning rate) "
   ]
  },
  {
   "cell_type": "markdown",
   "id": "18d91a27",
   "metadata": {},
   "source": [
    "## Exhaustive Search (Brute-Force Search)\n",
    "* the process of looking for the most optimal combination of hyperparameters by checking whether each candidate is a good match\n",
    "* advantage: every single combination will be checked and the absolute optimum solution identified\n",
    "* disadvantage: required time is proportional to the total number of all possible solutions"
   ]
  },
  {
   "cell_type": "markdown",
   "id": "0a35b806",
   "metadata": {},
   "source": [
    "## Grid Search\n",
    "* an Exhaustive Search through a manually specified a subset of the hyperparameter space of a learning algorithm defines the search space as a grid of hyperparameter values and evaluates every position in the grid\n",
    "* *search space*: \n",
    "    * volume to be searched where each dimension represents a hyperparameter and each point represents one model configuration\n",
    "    * a point in the search space is a vector with a specific value for each hyperparameter\n",
    "* *objective*: find a vector that results in the best performance of the model after learning, such as maximum accuracy or minimum loss (error) "
   ]
  },
  {
   "cell_type": "markdown",
   "id": "966137ff",
   "metadata": {},
   "source": [
    "## Example: Real-Life Scenario\n",
    "The example data we’re going to use for Exhaustive Search Optimization is a real-life data about the profit of 50 startups running in the US. What we need to analyze is various expenses such as R&D Spend, Administration expenses, Marketing Spend and the State location of the startup (e.g., California). The Profit is the target.\n",
    "<br><br>\n",
    "Data taken from: https://raw.githubusercontent.com/arib168/data/main/50_Startups.csv\n",
    "<br><br>\n",
    "*Objective*: Train and test regression models without and with optimization to predict the Profit of a startup if it has calculated expenses such as R&D Spend, Administration expenses, and Marketing Spend. The regression algorithms to be tested are:\n",
    "    <li> Multiple Linear Regression </li>\n",
    "    <li> Random Forest Regression </li>"
   ]
  },
  {
   "cell_type": "markdown",
   "id": "63914e83",
   "metadata": {},
   "source": [
    "### Step 1. Load Data"
   ]
  },
  {
   "cell_type": "code",
   "execution_count": 1,
   "id": "9fa43a38",
   "metadata": {
    "scrolled": true
   },
   "outputs": [
    {
     "data": {
      "text/html": [
       "<div>\n",
       "<style scoped>\n",
       "    .dataframe tbody tr th:only-of-type {\n",
       "        vertical-align: middle;\n",
       "    }\n",
       "\n",
       "    .dataframe tbody tr th {\n",
       "        vertical-align: top;\n",
       "    }\n",
       "\n",
       "    .dataframe thead th {\n",
       "        text-align: right;\n",
       "    }\n",
       "</style>\n",
       "<table border=\"1\" class=\"dataframe\">\n",
       "  <thead>\n",
       "    <tr style=\"text-align: right;\">\n",
       "      <th></th>\n",
       "      <th>R_D_Spend</th>\n",
       "      <th>Administration</th>\n",
       "      <th>Marketing_Spend</th>\n",
       "      <th>State</th>\n",
       "      <th>Profit</th>\n",
       "    </tr>\n",
       "  </thead>\n",
       "  <tbody>\n",
       "    <tr>\n",
       "      <th>0</th>\n",
       "      <td>165349.20</td>\n",
       "      <td>136897.80</td>\n",
       "      <td>471784.10</td>\n",
       "      <td>New York</td>\n",
       "      <td>192261.83</td>\n",
       "    </tr>\n",
       "    <tr>\n",
       "      <th>1</th>\n",
       "      <td>162597.70</td>\n",
       "      <td>151377.59</td>\n",
       "      <td>443898.53</td>\n",
       "      <td>California</td>\n",
       "      <td>191792.06</td>\n",
       "    </tr>\n",
       "    <tr>\n",
       "      <th>2</th>\n",
       "      <td>153441.51</td>\n",
       "      <td>101145.55</td>\n",
       "      <td>407934.54</td>\n",
       "      <td>Florida</td>\n",
       "      <td>191050.39</td>\n",
       "    </tr>\n",
       "    <tr>\n",
       "      <th>3</th>\n",
       "      <td>144372.41</td>\n",
       "      <td>118671.85</td>\n",
       "      <td>383199.62</td>\n",
       "      <td>New York</td>\n",
       "      <td>182901.99</td>\n",
       "    </tr>\n",
       "    <tr>\n",
       "      <th>4</th>\n",
       "      <td>142107.34</td>\n",
       "      <td>91391.77</td>\n",
       "      <td>366168.42</td>\n",
       "      <td>Florida</td>\n",
       "      <td>166187.94</td>\n",
       "    </tr>\n",
       "    <tr>\n",
       "      <th>5</th>\n",
       "      <td>131876.90</td>\n",
       "      <td>99814.71</td>\n",
       "      <td>362861.36</td>\n",
       "      <td>New York</td>\n",
       "      <td>156991.12</td>\n",
       "    </tr>\n",
       "    <tr>\n",
       "      <th>6</th>\n",
       "      <td>134615.46</td>\n",
       "      <td>147198.87</td>\n",
       "      <td>127716.82</td>\n",
       "      <td>California</td>\n",
       "      <td>156122.51</td>\n",
       "    </tr>\n",
       "    <tr>\n",
       "      <th>7</th>\n",
       "      <td>130298.13</td>\n",
       "      <td>145530.06</td>\n",
       "      <td>323876.68</td>\n",
       "      <td>Florida</td>\n",
       "      <td>155752.60</td>\n",
       "    </tr>\n",
       "    <tr>\n",
       "      <th>8</th>\n",
       "      <td>120542.52</td>\n",
       "      <td>148718.95</td>\n",
       "      <td>311613.29</td>\n",
       "      <td>New York</td>\n",
       "      <td>152211.77</td>\n",
       "    </tr>\n",
       "    <tr>\n",
       "      <th>9</th>\n",
       "      <td>123334.88</td>\n",
       "      <td>108679.17</td>\n",
       "      <td>304981.62</td>\n",
       "      <td>California</td>\n",
       "      <td>149759.96</td>\n",
       "    </tr>\n",
       "  </tbody>\n",
       "</table>\n",
       "</div>"
      ],
      "text/plain": [
       "   R_D_Spend  Administration  Marketing_Spend       State     Profit\n",
       "0  165349.20       136897.80        471784.10    New York  192261.83\n",
       "1  162597.70       151377.59        443898.53  California  191792.06\n",
       "2  153441.51       101145.55        407934.54     Florida  191050.39\n",
       "3  144372.41       118671.85        383199.62    New York  182901.99\n",
       "4  142107.34        91391.77        366168.42     Florida  166187.94\n",
       "5  131876.90        99814.71        362861.36    New York  156991.12\n",
       "6  134615.46       147198.87        127716.82  California  156122.51\n",
       "7  130298.13       145530.06        323876.68     Florida  155752.60\n",
       "8  120542.52       148718.95        311613.29    New York  152211.77\n",
       "9  123334.88       108679.17        304981.62  California  149759.96"
      ]
     },
     "execution_count": 1,
     "metadata": {},
     "output_type": "execute_result"
    }
   ],
   "source": [
    "import pandas as pd\n",
    "df = pd.read_csv('data\\\\50_startups.csv')\n",
    "df.head(10)"
   ]
  },
  {
   "cell_type": "markdown",
   "id": "4d421acc",
   "metadata": {},
   "source": [
    "### Step 2. Remove the 'State' Feature"
   ]
  },
  {
   "cell_type": "code",
   "execution_count": 2,
   "id": "94c78758",
   "metadata": {},
   "outputs": [],
   "source": [
    "df_numeric_ftrs = df.select_dtypes(include=['float64','int64'])"
   ]
  },
  {
   "cell_type": "code",
   "execution_count": 3,
   "id": "b0acf210",
   "metadata": {},
   "outputs": [
    {
     "data": {
      "text/html": [
       "<div>\n",
       "<style scoped>\n",
       "    .dataframe tbody tr th:only-of-type {\n",
       "        vertical-align: middle;\n",
       "    }\n",
       "\n",
       "    .dataframe tbody tr th {\n",
       "        vertical-align: top;\n",
       "    }\n",
       "\n",
       "    .dataframe thead th {\n",
       "        text-align: right;\n",
       "    }\n",
       "</style>\n",
       "<table border=\"1\" class=\"dataframe\">\n",
       "  <thead>\n",
       "    <tr style=\"text-align: right;\">\n",
       "      <th></th>\n",
       "      <th>R_D_Spend</th>\n",
       "      <th>Administration</th>\n",
       "      <th>Marketing_Spend</th>\n",
       "      <th>Profit</th>\n",
       "    </tr>\n",
       "  </thead>\n",
       "  <tbody>\n",
       "    <tr>\n",
       "      <th>0</th>\n",
       "      <td>165349.20</td>\n",
       "      <td>136897.80</td>\n",
       "      <td>471784.10</td>\n",
       "      <td>192261.83</td>\n",
       "    </tr>\n",
       "    <tr>\n",
       "      <th>1</th>\n",
       "      <td>162597.70</td>\n",
       "      <td>151377.59</td>\n",
       "      <td>443898.53</td>\n",
       "      <td>191792.06</td>\n",
       "    </tr>\n",
       "    <tr>\n",
       "      <th>2</th>\n",
       "      <td>153441.51</td>\n",
       "      <td>101145.55</td>\n",
       "      <td>407934.54</td>\n",
       "      <td>191050.39</td>\n",
       "    </tr>\n",
       "    <tr>\n",
       "      <th>3</th>\n",
       "      <td>144372.41</td>\n",
       "      <td>118671.85</td>\n",
       "      <td>383199.62</td>\n",
       "      <td>182901.99</td>\n",
       "    </tr>\n",
       "    <tr>\n",
       "      <th>4</th>\n",
       "      <td>142107.34</td>\n",
       "      <td>91391.77</td>\n",
       "      <td>366168.42</td>\n",
       "      <td>166187.94</td>\n",
       "    </tr>\n",
       "    <tr>\n",
       "      <th>5</th>\n",
       "      <td>131876.90</td>\n",
       "      <td>99814.71</td>\n",
       "      <td>362861.36</td>\n",
       "      <td>156991.12</td>\n",
       "    </tr>\n",
       "    <tr>\n",
       "      <th>6</th>\n",
       "      <td>134615.46</td>\n",
       "      <td>147198.87</td>\n",
       "      <td>127716.82</td>\n",
       "      <td>156122.51</td>\n",
       "    </tr>\n",
       "    <tr>\n",
       "      <th>7</th>\n",
       "      <td>130298.13</td>\n",
       "      <td>145530.06</td>\n",
       "      <td>323876.68</td>\n",
       "      <td>155752.60</td>\n",
       "    </tr>\n",
       "    <tr>\n",
       "      <th>8</th>\n",
       "      <td>120542.52</td>\n",
       "      <td>148718.95</td>\n",
       "      <td>311613.29</td>\n",
       "      <td>152211.77</td>\n",
       "    </tr>\n",
       "    <tr>\n",
       "      <th>9</th>\n",
       "      <td>123334.88</td>\n",
       "      <td>108679.17</td>\n",
       "      <td>304981.62</td>\n",
       "      <td>149759.96</td>\n",
       "    </tr>\n",
       "  </tbody>\n",
       "</table>\n",
       "</div>"
      ],
      "text/plain": [
       "   R_D_Spend  Administration  Marketing_Spend     Profit\n",
       "0  165349.20       136897.80        471784.10  192261.83\n",
       "1  162597.70       151377.59        443898.53  191792.06\n",
       "2  153441.51       101145.55        407934.54  191050.39\n",
       "3  144372.41       118671.85        383199.62  182901.99\n",
       "4  142107.34        91391.77        366168.42  166187.94\n",
       "5  131876.90        99814.71        362861.36  156991.12\n",
       "6  134615.46       147198.87        127716.82  156122.51\n",
       "7  130298.13       145530.06        323876.68  155752.60\n",
       "8  120542.52       148718.95        311613.29  152211.77\n",
       "9  123334.88       108679.17        304981.62  149759.96"
      ]
     },
     "execution_count": 3,
     "metadata": {},
     "output_type": "execute_result"
    }
   ],
   "source": [
    "df_numeric_ftrs.head(10)"
   ]
  },
  {
   "cell_type": "markdown",
   "id": "a54c1fc9",
   "metadata": {},
   "source": [
    "### Step 3. Prepare the Datasets - Train and Test"
   ]
  },
  {
   "cell_type": "code",
   "execution_count": 4,
   "id": "06c68416",
   "metadata": {},
   "outputs": [],
   "source": [
    "from sklearn.model_selection import train_test_split"
   ]
  },
  {
   "cell_type": "code",
   "execution_count": 5,
   "id": "531608b2",
   "metadata": {},
   "outputs": [],
   "source": [
    "Y = df_numeric_ftrs.iloc[:, df_numeric_ftrs.columns.get_loc('Profit')]\n",
    "X = df_numeric_ftrs.loc[:, df_numeric_ftrs.columns != 'Profit']\n",
    "\n",
    "X_train, X_test, Y_train, Y_test = train_test_split(X,Y, test_size=0.2, random_state=0)"
   ]
  },
  {
   "cell_type": "markdown",
   "id": "b44b24ea",
   "metadata": {},
   "source": [
    "### Step 4. Import the scikit-learn Libraries"
   ]
  },
  {
   "cell_type": "code",
   "execution_count": 6,
   "id": "7f30dd80",
   "metadata": {},
   "outputs": [],
   "source": [
    "from sklearn.linear_model import LinearRegression\n",
    "from sklearn.ensemble import RandomForestRegressor\n",
    "from sklearn import metrics\n",
    "from sklearn.model_selection import GridSearchCV\n",
    "from sklearn.model_selection import ShuffleSplit"
   ]
  },
  {
   "cell_type": "markdown",
   "id": "fb63d5d7",
   "metadata": {},
   "source": [
    "### Step 5. Multiple Linear Regression without Optimization"
   ]
  },
  {
   "cell_type": "code",
   "execution_count": 7,
   "id": "01852735",
   "metadata": {},
   "outputs": [
    {
     "data": {
      "text/plain": [
       "LinearRegression()"
      ]
     },
     "execution_count": 7,
     "metadata": {},
     "output_type": "execute_result"
    }
   ],
   "source": [
    "lr = LinearRegression()\n",
    "lr.fit(X_train, Y_train)"
   ]
  },
  {
   "cell_type": "code",
   "execution_count": 8,
   "id": "54fc61f7",
   "metadata": {},
   "outputs": [],
   "source": [
    "Y_pred = lr.predict(X_test)"
   ]
  },
  {
   "cell_type": "code",
   "execution_count": 9,
   "id": "c4dd9624",
   "metadata": {},
   "outputs": [
    {
     "name": "stdout",
     "output_type": "stream",
     "text": [
      "0.9393955917820569\n"
     ]
    }
   ],
   "source": [
    "mlr_score_without_optimization = metrics.r2_score(Y_test,Y_pred)\n",
    "print(mlr_score_without_optimization)"
   ]
  },
  {
   "cell_type": "markdown",
   "id": "f8805d96",
   "metadata": {},
   "source": [
    "### Step 6. Linear Regression with Optimization"
   ]
  },
  {
   "cell_type": "markdown",
   "id": "8cea26f9",
   "metadata": {},
   "source": [
    "#### GridSearchCV\n",
    "* Exhaustive search over specified hyperparameter values for an estimator.\n",
    "* Important methods are fit, predict.\n",
    "* Important arguments:\n",
    "    * model - the model to be optimized \n",
    "    * space - the search space\n",
    "    * cv (cross-validation): \n",
    "        * number of folds to be specified \n",
    "        * configured cross-validation object\n",
    "        \n",
    "Note: Cross-validation is a technique for evaluating ML models by training several ML models on subsets of the available input data and evaluating them on the complementary subset of the data. Use cross-validation to detect overfitting, ie, failing to generalize a pattern.        "
   ]
  },
  {
   "cell_type": "markdown",
   "id": "ce64b012",
   "metadata": {},
   "source": [
    "#### ShuffleSplit\n",
    "* random permutation cross-validator\n",
    "* yields indices to split data into training and test sets\n",
    "\n",
    "Note: In contrary to other cross-validation strategies, random splits do not guarantee that all folds will be different, although this is still very likely for sizeable datasets."
   ]
  },
  {
   "cell_type": "code",
   "execution_count": 10,
   "id": "55d0865e",
   "metadata": {},
   "outputs": [],
   "source": [
    "cv = ShuffleSplit(n_splits=2, test_size=0.3, random_state=0)"
   ]
  },
  {
   "cell_type": "markdown",
   "id": "f9157111",
   "metadata": {},
   "source": [
    "#### LinearRegression Hyperparameters\n",
    "\n",
    "* **fit_intercept** (default=True) - If True, the intercept for the model will be calculated. If set to False, no intercept will be used in calculations (i.e. data is expected to be centered).\n",
    "\n",
    "* **copy_X** (default=True) - If True, X will be copied; else, it may be overwritten.\n",
    "\n",
    "* **n_jobs** (default=None) - Number of jobs to use for the computation. This will only provide speedup in case of sufficiently large problems. **None** means 1 job and **-1** means using all available processors.\n",
    "\n",
    "* **positivebool** (default=False) - When is set to True, this hyperparameter forces the coefficients - *intercept* (𝛽<sub>0</sub>) and *slopes*  (𝛽<sub>0</sub>....𝛽<sub>n</sub>) to be positive."
   ]
  },
  {
   "cell_type": "code",
   "execution_count": 11,
   "id": "a7e6bc35",
   "metadata": {},
   "outputs": [],
   "source": [
    "lm_parameters = {'fit_intercept':[True,False], 'copy_X':[True,False]}"
   ]
  },
  {
   "cell_type": "code",
   "execution_count": 12,
   "id": "5d783efe",
   "metadata": {},
   "outputs": [],
   "source": [
    "lm = GridSearchCV(LinearRegression(),\n",
    "                  param_grid=lm_parameters,\n",
    "                  cv=cv,            \n",
    "                  return_train_score=True)"
   ]
  },
  {
   "cell_type": "code",
   "execution_count": 13,
   "id": "70731e44",
   "metadata": {},
   "outputs": [],
   "source": [
    "result = lm.fit(X_train, Y_train)"
   ]
  },
  {
   "cell_type": "code",
   "execution_count": 14,
   "id": "827f93b2",
   "metadata": {},
   "outputs": [
    {
     "data": {
      "text/plain": [
       "{'copy_X': True, 'fit_intercept': True}"
      ]
     },
     "execution_count": 14,
     "metadata": {},
     "output_type": "execute_result"
    }
   ],
   "source": [
    "result.best_params_"
   ]
  },
  {
   "cell_type": "code",
   "execution_count": 15,
   "id": "27f5a4ca",
   "metadata": {},
   "outputs": [],
   "source": [
    "Y_pred = lm.predict(X_test)"
   ]
  },
  {
   "cell_type": "code",
   "execution_count": 16,
   "id": "cd705c4f",
   "metadata": {},
   "outputs": [
    {
     "name": "stdout",
     "output_type": "stream",
     "text": [
      "0.9393955917820569\n"
     ]
    }
   ],
   "source": [
    "mlr_score_with_optimization = metrics.r2_score(Y_test,Y_pred)\n",
    "print(mlr_score_with_optimization)"
   ]
  },
  {
   "cell_type": "code",
   "execution_count": 17,
   "id": "fd260c3b",
   "metadata": {},
   "outputs": [
    {
     "name": "stdout",
     "output_type": "stream",
     "text": [
      "Prediction score without opimization: 0.9393955917820569\n",
      "Prediction score with opimization: 0.9393955917820569\n"
     ]
    }
   ],
   "source": [
    "print(f\"Prediction score without opimization: {mlr_score_without_optimization}\")\n",
    "print(f\"Prediction score with opimization: {mlr_score_with_optimization}\")"
   ]
  },
  {
   "cell_type": "markdown",
   "id": "90a0fb99",
   "metadata": {},
   "source": [
    "### Step 7. Random Forest Regression without Optimization"
   ]
  },
  {
   "cell_type": "code",
   "execution_count": 18,
   "id": "39e2c724",
   "metadata": {},
   "outputs": [
    {
     "data": {
      "text/plain": [
       "RandomForestRegressor()"
      ]
     },
     "execution_count": 18,
     "metadata": {},
     "output_type": "execute_result"
    }
   ],
   "source": [
    "rf_regressor = RandomForestRegressor (n_estimators=100)\n",
    "rf_regressor.fit(X_train, Y_train)"
   ]
  },
  {
   "cell_type": "code",
   "execution_count": 19,
   "id": "5609eb9f",
   "metadata": {},
   "outputs": [],
   "source": [
    "Y_pred = rf_regressor.predict(X_test)"
   ]
  },
  {
   "cell_type": "code",
   "execution_count": 20,
   "id": "9928d2b3",
   "metadata": {},
   "outputs": [
    {
     "name": "stdout",
     "output_type": "stream",
     "text": [
      "0.9595224380380424\n"
     ]
    }
   ],
   "source": [
    "rfr_score_without_optimization = metrics.r2_score(Y_test,Y_pred)\n",
    "print(rfr_score_without_optimization)"
   ]
  },
  {
   "cell_type": "markdown",
   "id": "26cc6389",
   "metadata": {},
   "source": [
    "### Step 8. Random Forest Regression with Optimization"
   ]
  },
  {
   "cell_type": "code",
   "execution_count": 21,
   "id": "711923ad",
   "metadata": {},
   "outputs": [],
   "source": [
    "cv = ShuffleSplit(n_splits=2, test_size=0.3, random_state=0)"
   ]
  },
  {
   "cell_type": "markdown",
   "id": "84595725",
   "metadata": {},
   "source": [
    "#### RandomForestRegressor Hyperparameters\n",
    "\n",
    "* **n_estimators** (default=100) - the number of trees in the forest\n",
    "\n",
    "* **criterion** {“squared_error”, “absolute_error”, “poisson”} (default=”squared_error) - the function to measure the quality of a split\n",
    "\n",
    "* **max_depth** (default=None) - the maximum depth of the tree; if None, then nodes are expanded until all leaves are reached\n",
    "\n",
    "* **min_samples_split** int or float (default=2) - the minimum number of samples required to split an internal node:\n",
    "    * if int, then consider min_samples_split as the minimum number.\n",
    "    * if float, then min_samples_split is a fraction and ceil(min_samples_split * n_samples) are the minimum number of samples for each split\n",
    "\n",
    "* **min_samples_leaf** int or float (default=1) - the minimum number of samples required to be at a leaf node. \n",
    "\n",
    "* **min_weight_fraction_leaf** (default=0.0) - the minimum weighted fraction of the sum total of weights (of all the input samples) required to be at a leaf node\n",
    "\n",
    "* **max_features** {“sqrt”, “log2”, None} int or float (default=1.0) - rte number of features to consider when looking for the best split:\n",
    "\n",
    "* **max_leaf_nodes** (default=None) - tells to grow trees with max_leaf_nodes in best-first fashion\n",
    "\n",
    "* **min_impurity_decrease** (default=0.0) - a node will be split if this split induces a decrease of the impurity greater than or equal to this value\n",
    "\n",
    "* **bootstrap** (default=True) - tells whether bootstrap samples are used when building trees; if False, the whole dataset is used to build each tree\n",
    "\n",
    "* **oob_score** (default=False) - tells whether to use out-of-bag samples to estimate the generalization score; only available if bootstrap=True\n",
    "\n",
    "* **n_jobs** (default=None) - the number of jobs to run in parallel; fit, predict, decision_path and apply are all parallelized over the trees; None means 1 and -1 means using all processors\n",
    "\n",
    "* **random_state**  - RandomState instance or None (default=None) - controls both the randomness of the bootstrapping of the samples used when building trees\n",
    "\n",
    "* **verbose** (default=0) - controls the verbosity when fitting and predicting\n",
    "\n",
    "* **warm_startbool** (default=False) - when set to True, reuse the solution of the previous call to fit and add more estimators to the ensemble, otherwise, just fit a whole new forest\n",
    "\n",
    "* **ccp_alphanon-negative** (default=0.0) - a complexity hiperparameter used for Minimal Cost-Complexity Pruning\n",
    "\n",
    "* **max_samples** int or float (default=None) - if bootstrap is True, the number of samples to draw from X to train each base estimator"
   ]
  },
  {
   "cell_type": "code",
   "execution_count": 22,
   "id": "695309b3",
   "metadata": {},
   "outputs": [],
   "source": [
    "lm_parameters = {} #an empty dict signifies default parameters\n",
    "\n",
    "lm = GridSearchCV(RandomForestRegressor(),\n",
    "                  param_grid=lm_parameters,\n",
    "                  cv=cv,            \n",
    "                  return_train_score=True)"
   ]
  },
  {
   "cell_type": "code",
   "execution_count": 23,
   "id": "6859351e",
   "metadata": {},
   "outputs": [],
   "source": [
    "result = lm.fit(X_train, Y_train)"
   ]
  },
  {
   "cell_type": "code",
   "execution_count": 24,
   "id": "98462281",
   "metadata": {},
   "outputs": [
    {
     "data": {
      "text/plain": [
       "{}"
      ]
     },
     "execution_count": 24,
     "metadata": {},
     "output_type": "execute_result"
    }
   ],
   "source": [
    "result.best_params_"
   ]
  },
  {
   "cell_type": "code",
   "execution_count": 25,
   "id": "fb503708",
   "metadata": {},
   "outputs": [],
   "source": [
    "Y_pred = lm.predict(X_test)"
   ]
  },
  {
   "cell_type": "code",
   "execution_count": 26,
   "id": "068f307d",
   "metadata": {},
   "outputs": [
    {
     "name": "stdout",
     "output_type": "stream",
     "text": [
      "0.9607149523722232\n"
     ]
    }
   ],
   "source": [
    "rfr_score_with_optimization_empty_param_grid = metrics.r2_score(Y_test,Y_pred)\n",
    "print(rfr_score_with_optimization_empty_param_grid)"
   ]
  },
  {
   "cell_type": "code",
   "execution_count": 27,
   "id": "b42c3c65",
   "metadata": {},
   "outputs": [
    {
     "name": "stdout",
     "output_type": "stream",
     "text": [
      "0.9595224380380424\n",
      "0.9607149523722232\n"
     ]
    }
   ],
   "source": [
    "print(rfr_score_without_optimization)\n",
    "print(rfr_score_with_optimization_empty_param_grid)"
   ]
  },
  {
   "cell_type": "code",
   "execution_count": 28,
   "id": "b537552e",
   "metadata": {},
   "outputs": [],
   "source": [
    "'''\n",
    "lm_parameters = {\n",
    "    'n_estimators': [2, 3, 4, 5],\n",
    "    'criterion': ['squared_error', 'absolute_error', 'poisson'],\n",
    "    'random_state': [0, 1, 2],\n",
    "    'max_depth': [1, 2, 3, 4, 5, 6, 7, 8, 9, 10],\n",
    "}\n",
    "'''\n",
    "\n",
    "lm_parameters = {\n",
    "    'n_estimators': [2, 3, 4, 5],\n",
    "    'criterion': ['squared_error', 'absolute_error', 'poisson'],\n",
    "    'random_state': [0, 1, 2]\n",
    "}\n",
    "\n",
    "'''\n",
    "lm_parameters = {\n",
    "    'max_features':[0.65, 0.7, 0.75, 0.8, 0.85, 0.9, 0.95],\n",
    "    'n_estimators': [2, 3, 4, 5, 6, 7, 8, 9, 10],\n",
    "    'criterion': ['squared_error', 'absolute_error', 'poisson'],\n",
    "    'random_state': [0, 1, 2]\n",
    "}\n",
    "'''\n",
    "\n",
    "lm = GridSearchCV(RandomForestRegressor(),\n",
    "                  param_grid=lm_parameters,\n",
    "                  cv=cv,            \n",
    "                  return_train_score=True)"
   ]
  },
  {
   "cell_type": "code",
   "execution_count": 29,
   "id": "3f9ed156",
   "metadata": {},
   "outputs": [],
   "source": [
    "result = lm.fit(X_train, Y_train)"
   ]
  },
  {
   "cell_type": "code",
   "execution_count": 30,
   "id": "85ad4127",
   "metadata": {},
   "outputs": [
    {
     "data": {
      "text/plain": [
       "{'criterion': 'absolute_error', 'n_estimators': 2, 'random_state': 1}"
      ]
     },
     "execution_count": 30,
     "metadata": {},
     "output_type": "execute_result"
    }
   ],
   "source": [
    "result.best_params_"
   ]
  },
  {
   "cell_type": "code",
   "execution_count": 31,
   "id": "4f085776",
   "metadata": {},
   "outputs": [],
   "source": [
    "Y_pred = lm.predict(X_test)"
   ]
  },
  {
   "cell_type": "code",
   "execution_count": 32,
   "id": "cecb8a4f",
   "metadata": {},
   "outputs": [
    {
     "name": "stdout",
     "output_type": "stream",
     "text": [
      "0.9626849262899466\n"
     ]
    }
   ],
   "source": [
    "rfr_score_with_optimization = metrics.r2_score(Y_test,Y_pred)\n",
    "print(rfr_score_with_optimization)"
   ]
  },
  {
   "cell_type": "code",
   "execution_count": 33,
   "id": "1c39db9e",
   "metadata": {},
   "outputs": [
    {
     "name": "stdout",
     "output_type": "stream",
     "text": [
      "0.9595224380380424\n",
      "0.9626849262899466\n",
      "0.9607149523722232\n"
     ]
    }
   ],
   "source": [
    "print(rfr_score_without_optimization)\n",
    "print(rfr_score_with_optimization)\n",
    "print(rfr_score_with_optimization_empty_param_grid)"
   ]
  },
  {
   "cell_type": "code",
   "execution_count": null,
   "id": "a3eb3fe2",
   "metadata": {},
   "outputs": [],
   "source": []
  },
  {
   "cell_type": "code",
   "execution_count": null,
   "id": "76b28b70",
   "metadata": {},
   "outputs": [],
   "source": []
  }
 ],
 "metadata": {
  "kernelspec": {
   "display_name": "Python 3 (ipykernel)",
   "language": "python",
   "name": "python3"
  },
  "language_info": {
   "codemirror_mode": {
    "name": "ipython",
    "version": 3
   },
   "file_extension": ".py",
   "mimetype": "text/x-python",
   "name": "python",
   "nbconvert_exporter": "python",
   "pygments_lexer": "ipython3",
   "version": "3.9.7"
  }
 },
 "nbformat": 4,
 "nbformat_minor": 5
}
