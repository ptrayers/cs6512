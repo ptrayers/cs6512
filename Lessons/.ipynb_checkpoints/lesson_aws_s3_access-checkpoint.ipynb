{
 "cells": [
  {
   "cell_type": "markdown",
   "id": "3b9b0d9a",
   "metadata": {},
   "source": [
    "\n",
    "# Accessing Files in AWS S3\n",
    "\n",
    "by Emil Vassev\n",
    "\n",
    "April 27, 2023\n",
    "<br><br>\n",
    "Copyright (C) 2023 - All rights reserved, do not copy or distribute without permission of the author.\n",
    "***"
   ]
  },
  {
   "cell_type": "markdown",
   "id": "65f88182",
   "metadata": {},
   "source": [
    "## Read Data from CSV File in AWS S3"
   ]
  },
  {
   "cell_type": "code",
   "execution_count": 1,
   "id": "5b9a3bbf",
   "metadata": {
    "tags": []
   },
   "outputs": [],
   "source": [
    "import boto3\n",
    "import pandas as pd\n",
    "import os\n",
    "from io import StringIO\n",
    "\n",
    "\n",
    "bucket_name = 'cs6512'\n",
    "AWS_S3_BUCKET = bucket_name\n",
    "AWS_ACCESS_KEY_ID = os.getenv(\"AWS_ACCESS_KEY_ID\")\n",
    "AWS_SECRET_ACCESS_KEY = os.getenv(\"AWS_SECRET_ACCESS_KEY\")\n",
    "AWS_SESSION_TOKEN = os.getenv(\"AWS_SESSION_TOKEN\")"
   ]
  },
  {
   "cell_type": "code",
   "execution_count": 2,
   "id": "3ead9824",
   "metadata": {
    "tags": []
   },
   "outputs": [],
   "source": [
    "def read_csv_file_from_s3(csv_file_name):\n",
    "    \n",
    "    client = boto3.client('s3')\n",
    "\n",
    "    object_key = csv_file_name\n",
    "\n",
    "    csv_obj = client.get_object(Bucket=AWS_S3_BUCKET, Key=object_key)\n",
    "    body = csv_obj['Body']\n",
    "    csv_string = body.read().decode('utf-8')\n",
    "\n",
    "    df = pd.read_csv(StringIO(csv_string))\n",
    "\n",
    "    return df"
   ]
  },
  {
   "cell_type": "code",
   "execution_count": 3,
   "id": "a84759e5",
   "metadata": {
    "tags": []
   },
   "outputs": [],
   "source": [
    "df = read_csv_file_from_s3('instrument_price.csv')"
   ]
  },
  {
   "cell_type": "code",
   "execution_count": 4,
   "id": "0e4439dd",
   "metadata": {
    "tags": []
   },
   "outputs": [
    {
     "data": {
      "text/html": [
       "<div>\n",
       "<style scoped>\n",
       "    .dataframe tbody tr th:only-of-type {\n",
       "        vertical-align: middle;\n",
       "    }\n",
       "\n",
       "    .dataframe tbody tr th {\n",
       "        vertical-align: top;\n",
       "    }\n",
       "\n",
       "    .dataframe thead th {\n",
       "        text-align: right;\n",
       "    }\n",
       "</style>\n",
       "<table border=\"1\" class=\"dataframe\">\n",
       "  <thead>\n",
       "    <tr style=\"text-align: right;\">\n",
       "      <th></th>\n",
       "      <th>instrument_ticker</th>\n",
       "      <th>currency_code</th>\n",
       "      <th>bid</th>\n",
       "      <th>offer</th>\n",
       "      <th>pricing_source_code</th>\n",
       "      <th>time</th>\n",
       "    </tr>\n",
       "  </thead>\n",
       "  <tbody>\n",
       "    <tr>\n",
       "      <th>0</th>\n",
       "      <td>LINK</td>\n",
       "      <td>USD</td>\n",
       "      <td>18.08329</td>\n",
       "      <td>18.08329</td>\n",
       "      <td>KRAKEN</td>\n",
       "      <td>2/10/2022 6:31</td>\n",
       "    </tr>\n",
       "    <tr>\n",
       "      <th>1</th>\n",
       "      <td>BTC</td>\n",
       "      <td>USD</td>\n",
       "      <td>43821.37500</td>\n",
       "      <td>43821.37500</td>\n",
       "      <td>COINBASE</td>\n",
       "      <td>2/10/2022 6:31</td>\n",
       "    </tr>\n",
       "    <tr>\n",
       "      <th>2</th>\n",
       "      <td>LTC</td>\n",
       "      <td>USD</td>\n",
       "      <td>138.06000</td>\n",
       "      <td>138.06000</td>\n",
       "      <td>KRAKEN</td>\n",
       "      <td>2/10/2022 6:31</td>\n",
       "    </tr>\n",
       "    <tr>\n",
       "      <th>3</th>\n",
       "      <td>DAI</td>\n",
       "      <td>USD</td>\n",
       "      <td>1.01890</td>\n",
       "      <td>1.01890</td>\n",
       "      <td>BINANCE</td>\n",
       "      <td>2/10/2022 6:31</td>\n",
       "    </tr>\n",
       "    <tr>\n",
       "      <th>4</th>\n",
       "      <td>XRP</td>\n",
       "      <td>USD</td>\n",
       "      <td>0.87150</td>\n",
       "      <td>0.87150</td>\n",
       "      <td>BINANCE</td>\n",
       "      <td>2/10/2022 6:01</td>\n",
       "    </tr>\n",
       "    <tr>\n",
       "      <th>5</th>\n",
       "      <td>SOL</td>\n",
       "      <td>USD</td>\n",
       "      <td>111.41500</td>\n",
       "      <td>111.41500</td>\n",
       "      <td>COINBASE</td>\n",
       "      <td>2/10/2022 6:31</td>\n",
       "    </tr>\n",
       "    <tr>\n",
       "      <th>6</th>\n",
       "      <td>BTC</td>\n",
       "      <td>USD</td>\n",
       "      <td>43916.90000</td>\n",
       "      <td>43916.90000</td>\n",
       "      <td>KRAKEN</td>\n",
       "      <td>2/10/2022 6:01</td>\n",
       "    </tr>\n",
       "    <tr>\n",
       "      <th>7</th>\n",
       "      <td>XRP</td>\n",
       "      <td>USD</td>\n",
       "      <td>0.87188</td>\n",
       "      <td>0.87188</td>\n",
       "      <td>KRAKEN</td>\n",
       "      <td>2/10/2022 6:01</td>\n",
       "    </tr>\n",
       "    <tr>\n",
       "      <th>8</th>\n",
       "      <td>BTC</td>\n",
       "      <td>USD</td>\n",
       "      <td>43819.80000</td>\n",
       "      <td>43819.80000</td>\n",
       "      <td>KRAKEN</td>\n",
       "      <td>2/10/2022 6:31</td>\n",
       "    </tr>\n",
       "    <tr>\n",
       "      <th>9</th>\n",
       "      <td>USD</td>\n",
       "      <td>CAD</td>\n",
       "      <td>1.26800</td>\n",
       "      <td>1.26800</td>\n",
       "      <td>BANKOFCANADA</td>\n",
       "      <td>2/10/2022 5:31</td>\n",
       "    </tr>\n",
       "  </tbody>\n",
       "</table>\n",
       "</div>"
      ],
      "text/plain": [
       "  instrument_ticker currency_code          bid        offer  \\\n",
       "0              LINK           USD     18.08329     18.08329   \n",
       "1               BTC           USD  43821.37500  43821.37500   \n",
       "2               LTC           USD    138.06000    138.06000   \n",
       "3               DAI           USD      1.01890      1.01890   \n",
       "4               XRP           USD      0.87150      0.87150   \n",
       "5               SOL           USD    111.41500    111.41500   \n",
       "6               BTC           USD  43916.90000  43916.90000   \n",
       "7               XRP           USD      0.87188      0.87188   \n",
       "8               BTC           USD  43819.80000  43819.80000   \n",
       "9               USD           CAD      1.26800      1.26800   \n",
       "\n",
       "  pricing_source_code            time  \n",
       "0              KRAKEN  2/10/2022 6:31  \n",
       "1            COINBASE  2/10/2022 6:31  \n",
       "2              KRAKEN  2/10/2022 6:31  \n",
       "3             BINANCE  2/10/2022 6:31  \n",
       "4             BINANCE  2/10/2022 6:01  \n",
       "5            COINBASE  2/10/2022 6:31  \n",
       "6              KRAKEN  2/10/2022 6:01  \n",
       "7              KRAKEN  2/10/2022 6:01  \n",
       "8              KRAKEN  2/10/2022 6:31  \n",
       "9        BANKOFCANADA  2/10/2022 5:31  "
      ]
     },
     "execution_count": 4,
     "metadata": {},
     "output_type": "execute_result"
    }
   ],
   "source": [
    "df.head(10)"
   ]
  },
  {
   "cell_type": "markdown",
   "id": "d1981751",
   "metadata": {},
   "source": [
    "## Write a CSV File to AWS S3"
   ]
  },
  {
   "cell_type": "code",
   "execution_count": 5,
   "id": "66326e03",
   "metadata": {
    "tags": []
   },
   "outputs": [],
   "source": [
    "def write_csv_file_to_s3(csv_file_name, df):\n",
    "\n",
    "    client = boto3.client(\n",
    "                              \"s3\", \n",
    "                              aws_access_key_id=AWS_ACCESS_KEY_ID, \n",
    "                              aws_secret_access_key=AWS_SECRET_ACCESS_KEY,\n",
    "                              aws_session_token=AWS_SESSION_TOKEN\n",
    "                            )\n",
    "    \n",
    "    with StringIO() as csv_buffer:\n",
    "        df.to_csv(csv_buffer, index=False)\n",
    "\n",
    "        response = client.put_object(Bucket=AWS_S3_BUCKET, Key=csv_file_name, Body=csv_buffer.getvalue())\n",
    "\n",
    "    status = response.get(\"ResponseMetadata\", {}).get(\"HTTPStatusCode\")\n",
    "\n",
    "    if status == 200:\n",
    "        print(f\"Successful S3 put_object response. Status - {status}\")\n",
    "    else:\n",
    "        print(f\"Unsuccessful S3 put_object response. Status - {status}\")"
   ]
  },
  {
   "cell_type": "code",
   "execution_count": 8,
   "id": "ce98b1b9",
   "metadata": {
    "tags": []
   },
   "outputs": [
    {
     "name": "stdout",
     "output_type": "stream",
     "text": [
      "Successful S3 put_object response. Status - 200\n"
     ]
    }
   ],
   "source": [
    "# assign values to lists.  \n",
    "data = [\n",
    "        {'A': 10, 'B': 20, 'C':30}, \n",
    "        {'x':100, 'y': 200, 'z': 300},\n",
    "        {'A': 101, 'B': 201, 'C':301, 'x':102, 'y': 202, 'z': 302},\n",
    "        {'A': 101, 'B': 201, 'C':301, 'x':102, 'y': 202, 'z': 302}\n",
    "       ]  \n",
    "  \n",
    "# Creates DataFrame.  \n",
    "df = pd.DataFrame(data)  \n",
    "\n",
    "write_csv_file_to_s3('test.csv', df)"
   ]
  },
  {
   "cell_type": "code",
   "execution_count": 9,
   "id": "f25f8159",
   "metadata": {
    "tags": []
   },
   "outputs": [],
   "source": [
    "df = read_csv_file_from_s3('test.csv')"
   ]
  },
  {
   "cell_type": "code",
   "execution_count": 10,
   "id": "13f3e826",
   "metadata": {
    "tags": []
   },
   "outputs": [
    {
     "data": {
      "text/html": [
       "<div>\n",
       "<style scoped>\n",
       "    .dataframe tbody tr th:only-of-type {\n",
       "        vertical-align: middle;\n",
       "    }\n",
       "\n",
       "    .dataframe tbody tr th {\n",
       "        vertical-align: top;\n",
       "    }\n",
       "\n",
       "    .dataframe thead th {\n",
       "        text-align: right;\n",
       "    }\n",
       "</style>\n",
       "<table border=\"1\" class=\"dataframe\">\n",
       "  <thead>\n",
       "    <tr style=\"text-align: right;\">\n",
       "      <th></th>\n",
       "      <th>A</th>\n",
       "      <th>B</th>\n",
       "      <th>C</th>\n",
       "      <th>x</th>\n",
       "      <th>y</th>\n",
       "      <th>z</th>\n",
       "    </tr>\n",
       "  </thead>\n",
       "  <tbody>\n",
       "    <tr>\n",
       "      <th>0</th>\n",
       "      <td>10.0</td>\n",
       "      <td>20.0</td>\n",
       "      <td>30.0</td>\n",
       "      <td>NaN</td>\n",
       "      <td>NaN</td>\n",
       "      <td>NaN</td>\n",
       "    </tr>\n",
       "    <tr>\n",
       "      <th>1</th>\n",
       "      <td>NaN</td>\n",
       "      <td>NaN</td>\n",
       "      <td>NaN</td>\n",
       "      <td>100.0</td>\n",
       "      <td>200.0</td>\n",
       "      <td>300.0</td>\n",
       "    </tr>\n",
       "    <tr>\n",
       "      <th>2</th>\n",
       "      <td>101.0</td>\n",
       "      <td>201.0</td>\n",
       "      <td>301.0</td>\n",
       "      <td>102.0</td>\n",
       "      <td>202.0</td>\n",
       "      <td>302.0</td>\n",
       "    </tr>\n",
       "    <tr>\n",
       "      <th>3</th>\n",
       "      <td>101.0</td>\n",
       "      <td>201.0</td>\n",
       "      <td>301.0</td>\n",
       "      <td>102.0</td>\n",
       "      <td>202.0</td>\n",
       "      <td>302.0</td>\n",
       "    </tr>\n",
       "  </tbody>\n",
       "</table>\n",
       "</div>"
      ],
      "text/plain": [
       "       A      B      C      x      y      z\n",
       "0   10.0   20.0   30.0    NaN    NaN    NaN\n",
       "1    NaN    NaN    NaN  100.0  200.0  300.0\n",
       "2  101.0  201.0  301.0  102.0  202.0  302.0\n",
       "3  101.0  201.0  301.0  102.0  202.0  302.0"
      ]
     },
     "execution_count": 10,
     "metadata": {},
     "output_type": "execute_result"
    }
   ],
   "source": [
    "df.head()"
   ]
  },
  {
   "cell_type": "code",
   "execution_count": null,
   "id": "b0aac5ff",
   "metadata": {},
   "outputs": [],
   "source": []
  }
 ],
 "metadata": {
  "kernelspec": {
   "display_name": "Python 3 (ipykernel)",
   "language": "python",
   "name": "python3"
  },
  "language_info": {
   "codemirror_mode": {
    "name": "ipython",
    "version": 3
   },
   "file_extension": ".py",
   "mimetype": "text/x-python",
   "name": "python",
   "nbconvert_exporter": "python",
   "pygments_lexer": "ipython3",
   "version": "3.7.10"
  }
 },
 "nbformat": 4,
 "nbformat_minor": 5
}
