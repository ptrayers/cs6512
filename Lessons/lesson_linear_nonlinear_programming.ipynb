{
 "cells": [
  {
   "cell_type": "markdown",
   "id": "c66e7524",
   "metadata": {},
   "source": [
    "\n",
    "# Linear and Non-Linear Programming\n",
    "\n",
    "by Emil Vassev\n",
    "\n",
    "October 9, October 12, 2022\n",
    "<br><br>\n",
    "Copyright (C) 2022 - All rights reserved, do not copy or distribute without permission of the author.\n",
    "***"
   ]
  },
  {
   "cell_type": "markdown",
   "id": "d1009a3d",
   "metadata": {},
   "source": [
    "## Machine Learning Optimization \n",
    "ML optimization is the process of:\n",
    "* maximizing or minimizing a function by systematically choosing input values from a set, so to compute an optimal value of that function\n",
    "* adjusting hyperparameters in order to minimize the cost function by using one of the optimization techniques"
   ]
  },
  {
   "cell_type": "markdown",
   "id": "f03407a6",
   "metadata": {},
   "source": [
    "## Linear Programming vs Nonlinear Programming\n",
    "**Linear programming** is a mathematical method that allows determining the best possible outcome or solution from a given set of parameters or a set of requirements. These parameters or requirements have a **linear relationship**. On the other hand, **nonlinear programming** is the mathematical method of finding the optimized solution by considering **constraints or objective functions that are nonlinear**.\n",
    "\n",
    "The main advantage of linear programming is that it helps to perform modeling or simulation to find the best solution according to the available resources, e.g., money, energy, time, space and other related factors or variables. The outcome of linear programming is maximizing or minimizing the result, e.g., maximizing a profit or minimizing costs.\n",
    "\n",
    "\n",
    "### Generic Components\n",
    "\n",
    "1. Objective function: maximum or minimum\n",
    "    * objective function f(x) needs to be either maximized or minimized\n",
    "    * general minimization problem \n",
    "      ```python \n",
    "      if max[f(x)] then -f(x)=min[f(x)]\n",
    "      ```\n",
    "2. Decision variables - chosen to minimize the function, i.e., `x` that `min[f(x)]`\n",
    "3. Constraints - constrain decision variables to a certain set of values, e.g.,  `x є [a,b]`\n",
    "\n",
    "### Specifics\n",
    "1. Linear programming decision variable is continuous, functional form is linear and constraints are linear.\n",
    "2. Nonlinear programming decision variable is continuous and either the objective function or constraints are non linear.\n"
   ]
  },
  {
   "cell_type": "markdown",
   "id": "73fa14e5",
   "metadata": {},
   "source": [
    "## Components of Linear Programming Problem\n",
    "\n",
    " $LPP = < D, f, F_{c}, C, C_{n}, R, T_{c} >$\n",
    " \n",
    "* $D$ *decision variables* - to be estimated as an output of the LPP solution\n",
    "* $f$ *objective function* - evaluates the amount by which decision variables would contribute to $min[f(x)]$ or $max[f(x)]$ \n",
    "* $F_{c}$ *objective function coefficients* - amount by which the objective function would change when one decision variable is altered\n",
    "* $C$ *constraints* -  restrictions or limitations of decision variables\n",
    "* $C_{n}$ *non-negative constraints* - decision variables must be positive for both maximization or minimization problems (some LPPs can ignore $C_{n}$)\n",
    "* $R$ *resource availability* - resource boundaries used to define the constraints $C$\n",
    "* $T_{c}$ *technological coefficients* - coefficients used to define the constraints $C$"
   ]
  },
  {
   "cell_type": "markdown",
   "id": "9525d060",
   "metadata": {},
   "source": [
    "### LPP Example \n",
    "Maximize `f = 15*x1 + 10*x2`\n",
    "\n",
    "Subject to:\n",
    "* `0.25*x1 + 1*x2 ≤ 65`\n",
    "* `1.25*x1 + 0.5*x2 ≤ 90` \n",
    "* `x1 ≥ 0`\n",
    "* `x2 ≥ 0`"
   ]
  },
  {
   "cell_type": "markdown",
   "id": "85ab98fc",
   "metadata": {},
   "source": [
    "* $D$ *decision variables* - `D={x1, x2}`\n",
    "* $f$ *objective function* - `max[f] = max[15*x1 + 10 *x2]`\n",
    "* $F_{c}$ *objective function coefficients* - `Fc = {15:x1, 10:x2}`\n",
    "* $C$ *constraints* -  `C = {(0.25*x1 + 1*x2 ≤ 65), (1.25*x1 + 0 5*x2 ≤ 90)}`\n",
    "* $C_{n}$ *non-negative constraints* - `Cn = {x1≥0, x2≥0}`\n",
    "* $R$ *resource availability* - `R = {65, 90}`\n",
    "* $T_{c}$ *technological coefficients* - `Tc = {0.25, 1, 1.25, 0.5}`"
   ]
  },
  {
   "cell_type": "markdown",
   "id": "9faedc20",
   "metadata": {},
   "source": [
    "## Standard Form of LP\n",
    "A linear program is said to be in standard form iif:\n",
    "* it is a maximization program\n",
    "* there are only equalities (no inequalities) in constraint specifications\n",
    "* all variables are restricted to be nonnegative\n",
    "\n",
    "### LP Transformation to a Standard Form\n",
    "1. If objective function is `m𝑖𝑛[𝑧], 𝑧 = 𝑐0 + 𝑐1∗𝑥1 + … + 𝑐𝑛∗𝑥𝑛`\n",
    "   * maximize it: `max[𝑧], −𝑧 = −𝑐0 − 𝑐1∗𝑥1 − ⋯ − 𝑐𝑛∗𝑥𝑛`\n",
    "   \n",
    "2. If there are inequality constraints:\n",
    "   * if of the form `𝑎1∗𝑥1 + 𝑎2∗𝑥2 + ⋯ + 𝑎𝑛∗𝑥𝑛 ≤ 𝑏`\n",
    "       * transform it into an equality constraint by adding a slack variable `𝑠`: `𝑎1∗𝑥1+𝑎2∗𝑥2 + ⋯ + 𝑎𝑛∗𝑥𝑛 + 𝑠 = 𝑏, 𝑠≥0`\n",
    "   * if of the form `𝑎1∗𝑥1 + 𝑎2∗𝑥2 + ⋯ + 𝑎𝑛∗𝑥𝑛 ≥ 𝑏`\n",
    "       * transform it into an equality constraint by adding a surplus variable `𝑠`: `𝑎1∗𝑥1+𝑎2∗𝑥2 + ⋯ + 𝑎𝑛∗𝑥𝑛 - 𝑠 = 𝑏, 𝑠≥0`   \n",
    "3. If a decision variable `x` is unrestricted in sign:\n",
    "   * introduce two new decision variables `𝑥′`and `𝑥′′` where `𝑥 = 𝑥′−𝑥′′`, `𝑥′≥0`, `𝑥′′≥0`\n",
    "   * replace every occurrence of `𝑥` with `𝑥′−𝑥′′`\n",
    "   \n",
    "### Example\n",
    "\n",
    "Objective function `m𝑖𝑛[𝑧]`, `𝑧 = 2𝑥1 − 𝑥2`\n",
    "\n",
    "Subject to:\n",
    "* `𝑥1 + 𝑥2 ≥ 2` \n",
    "* `3𝑥1 + 2𝑥2 ≤ 4` \n",
    "* `𝑥1 + 𝑥2 = 3`\n",
    "* `𝑥1 ≶ 0` \n",
    "* `𝑥2 ≥ 0`\n",
    "\n",
    "**Standard form**\n",
    "\n",
    "`𝑥1 = 𝑥1′ - 𝑥1′′`\n",
    "\n",
    "Objective function `m𝑎𝑥[𝑧]`, `−𝑧 = −2𝑥1′ + 2𝑥1′′ + 𝑥2`\n",
    "\n",
    "Subject to:\n",
    "* `𝑥1′ − 𝑥1′′ + 𝑥2 − 𝑥3 = 2` \n",
    "* `3𝑥1′ − 3𝑥1′′ + 2𝑥2 + 𝑥4 = 4`\n",
    "* `𝑥1′ − 𝑥1′′ + 𝑥2 = 3`\n",
    "* `𝑥1′ ≥ 0`\n",
    "* `𝑥1′′ ≥ 0`\n",
    "* `𝑥2 ≥ 0`\n",
    "* `𝑥3 ≥ 0`\n",
    "* `𝑥4 ≥ 0`"
   ]
  },
  {
   "cell_type": "markdown",
   "id": "7e2f982f",
   "metadata": {},
   "source": [
    "## Linear Programming With Python\n",
    "\n",
    "### Example #1\n",
    "\n",
    "This example has been extracted from <a link=\"https://realpython.com/linear-programming-python/\" target=\"new\">Hands-On Linear Programming: Optimization With Python</a>\n",
    "\n",
    "<div>\n",
    "<img src=\"images/lpp.png\" align=\"left\" />\n",
    "</div> "
   ]
  },
  {
   "cell_type": "code",
   "execution_count": 1,
   "id": "415ab85d",
   "metadata": {},
   "outputs": [],
   "source": [
    "from scipy.optimize import linprog"
   ]
  },
  {
   "cell_type": "markdown",
   "id": "eebd4726",
   "metadata": {},
   "source": [
    "### Note\n",
    "The `linprog()` function solves only minimization (not maximization) problems and doesn’t allow inequality constraints with the *greater than or equal to sign* (`≥`). To work around these issues, you need to modify your problem before starting the optimization:\n",
    "\n",
    "* Instead of maximizing `z = x + 2y`, you can minimize its negative form (`−z = −x − 2y`).\n",
    "* Instead of having the *greater than or equal to sign*, you can multiply the yellow inequality by `−1` and get the opposite less than or equal to sign (`≤`)."
   ]
  },
  {
   "cell_type": "code",
   "execution_count": 2,
   "id": "50036801",
   "metadata": {},
   "outputs": [],
   "source": [
    "obj = [-1, -2]\n",
    "#      ─┬  ─┬\n",
    "#       │   └┤ Coefficient for y\n",
    "#       └────┤ Coefficient for x\n",
    "\n",
    "lhs_ineq = [[ 2,  1],  # Red constraint left side\n",
    "            [-4,  5],  # Blue constraint left side\n",
    "            [ 1, -2]]  # Yellow constraint left side\n",
    "\n",
    "rhs_ineq = [20,  # Red constraint right side\n",
    "            10,  # Blue constraint right side\n",
    "             2]  # Yellow constraint right side\n",
    "\n",
    "lhs_eq = [[-1, 5]]  # Green constraint left side\n",
    "rhs_eq = [15]       # Green constraint right side"
   ]
  },
  {
   "cell_type": "markdown",
   "id": "95ef8989",
   "metadata": {},
   "source": [
    "In the following lines of code:\n",
    "\n",
    "* `bnd` definition - defines the bounds for each variable in the same order as the coefficients (non-negative constraints)\n",
    "* `linprog()` function - optimizes and solves the problem by executing\n",
    "* `opt` – shows the result"
   ]
  },
  {
   "cell_type": "code",
   "execution_count": 3,
   "id": "2b7b6222",
   "metadata": {},
   "outputs": [],
   "source": [
    "bnd = [(0, float(\"inf\")),  # Bounds of x\n",
    "       (0, float(\"inf\"))]  # Bounds of y"
   ]
  },
  {
   "cell_type": "code",
   "execution_count": 4,
   "id": "cedd4553",
   "metadata": {},
   "outputs": [],
   "source": [
    "opt = linprog(c=obj, A_ub=lhs_ineq, b_ub=rhs_ineq,\n",
    "              A_eq=lhs_eq, b_eq=rhs_eq, bounds=bnd,\n",
    "              method='highs')"
   ]
  },
  {
   "cell_type": "markdown",
   "id": "bb3f9d1b",
   "metadata": {},
   "source": [
    "The algorithm used to solve the LPP is **highs** (default). Other supported algorithms are:\n",
    "* highs-ds\n",
    "* highs-ipm\n",
    "* interior-point\n",
    "* revised simplex\n",
    "* simplex\n",
    "\n",
    "https://docs.scipy.org/doc/scipy/reference/generated/scipy.optimize.linprog.html"
   ]
  },
  {
   "cell_type": "code",
   "execution_count": 5,
   "id": "f183b73c",
   "metadata": {},
   "outputs": [
    {
     "data": {
      "text/plain": [
       "           con: array([0.])\n",
       " crossover_nit: 0\n",
       "         eqlin:  marginals: array([-0.27272727])\n",
       "  residual: array([0.])\n",
       "           fun: -16.818181818181817\n",
       "       ineqlin:  marginals: array([-0.63636364, -0.        , -0.        ])\n",
       "  residual: array([ 0.        , 18.18181818,  3.36363636])\n",
       "         lower:  marginals: array([0., 0.])\n",
       "  residual: array([7.72727273, 4.54545455])\n",
       "       message: 'Optimization terminated successfully. (HiGHS Status 7: Optimal)'\n",
       "           nit: 0\n",
       "         slack: array([ 0.        , 18.18181818,  3.36363636])\n",
       "        status: 0\n",
       "       success: True\n",
       "         upper:  marginals: array([0., 0.])\n",
       "  residual: array([inf, inf])\n",
       "             x: array([7.72727273, 4.54545455])"
      ]
     },
     "execution_count": 5,
     "metadata": {},
     "output_type": "execute_result"
    }
   ],
   "source": [
    "opt"
   ]
  },
  {
   "cell_type": "markdown",
   "id": "52bc8f3e",
   "metadata": {},
   "source": [
    "### Result\n",
    "* `x = 7.72727273`\n",
    "* `y = 4.54545455`\n",
    "* `max[z] = 16.818181818181817`"
   ]
  },
  {
   "cell_type": "markdown",
   "id": "4c385f80",
   "metadata": {},
   "source": [
    "### Example #2\n",
    "\n",
    "A company makes two products (X and Y) using two machines (A and B). Each unit of X that is produced requires 50 minutes processing time on machine A and 30 minutes processing time on machine B. Each unit of Y that is produced requires 24 minutes processing time on machine A and 33 minutes processing time on machine B.\n",
    "\n",
    "At the start of the current week there are 30 units of X and 90 units of Y in stock. Available processing time on machine A is forecast to be 40 hours and on machine B is forecast to be 35 hours.\n",
    "\n",
    "The demand for X in the current week is forecast to be 75 units and for Y is forecast to be 95 units. Company policy is to maximise the combined sum of the units of X and the units of Y in stock at the end of the week.\n",
    "\n",
    "Formulate the problem of deciding how much of each product to make in the current week as a linear program."
   ]
  },
  {
   "cell_type": "markdown",
   "id": "cdcf77ee",
   "metadata": {},
   "source": [
    "#### Assumptions \n",
    "**Decision variables:**\n",
    "* `x` - the number of units of X produced in the current week\n",
    "* `y` - the number of units of Y produced in the current week\n",
    "\n",
    "**Constraints:**\n",
    "* `50x + 24y <= 2400` machine A time\n",
    "* `30x + 33y <= 2100` machine B time\n",
    "* `x >= 75 - 30`, i.e. x >= 45 so production of X >= demand (75) - initial stock (30), which ensures we meet demand\n",
    "* `y >= 95 - 90`, i.e. y >= 5 so production of Y >= demand (95) - initial stock (90), which ensures we meet demand\n",
    "\n",
    "**Objective function:**\n",
    "* the objective is to maximize the number of units left in stock at the end of the week, i.e., `max[(x+30-75) + (y+90-95)]`\n",
    "* `max[z], z = x + y - 50`\n"
   ]
  },
  {
   "cell_type": "markdown",
   "id": "3496295f",
   "metadata": {},
   "source": [
    "#### Defining the LPP in Python\n",
    "\n",
    "**Transformations**:\n",
    "* Objective function - instead of maximizing `z = x + y - 50`, we will minimize its negative form (`−z = − x − y + 50`).\n",
    "    * `min[z], -z = -x - y + 50`\n",
    "    *  our objective function contains a constant (50), but this constant does not change the optimization problem or the optimal solution, i.e., we don't use it in `linprog()`\n",
    "\n",
    "* Non-negative constraints - the following constraints could be considered as an *upgrade* of the non-negative constraints:\n",
    "    * `x >= 45`\n",
    "    * `y >= 5`    "
   ]
  },
  {
   "cell_type": "code",
   "execution_count": 6,
   "id": "67996d6a",
   "metadata": {},
   "outputs": [],
   "source": [
    "obj = [-1, -1]\n",
    "#      ─┬  ─┬\n",
    "#       │   └┤ Coefficient for y\n",
    "#       └────┤ Coefficient for x\n",
    "\n",
    "lhs_ineq = [[50,  24],  # 50x + 24y <= 2400\n",
    "            [30,  33]]  # 30x + 33y <= 2100\n",
    "\n",
    "rhs_ineq = [2400,  # 50x + 24y <= 2400\n",
    "            2100]  # 30x + 33y <= 2100\n",
    "\n",
    "\n",
    "bnd = [(45, float(\"inf\")),  # Bounds of x\n",
    "       (5, float(\"inf\"))]  # Bounds of y"
   ]
  },
  {
   "cell_type": "code",
   "execution_count": 7,
   "id": "21c6ea21",
   "metadata": {},
   "outputs": [
    {
     "data": {
      "text/plain": [
       "           con: array([], dtype=float64)\n",
       " crossover_nit: 0\n",
       "         eqlin:  marginals: array([], dtype=float64)\n",
       "  residual: array([], dtype=float64)\n",
       "           fun: -51.25\n",
       "       ineqlin:  marginals: array([-0.04166667, -0.        ])\n",
       "  residual: array([  0.  , 543.75])\n",
       "         lower:  marginals: array([1.08333333, 0.        ])\n",
       "  residual: array([0.  , 1.25])\n",
       "       message: 'Optimization terminated successfully. (HiGHS Status 7: Optimal)'\n",
       "           nit: 0\n",
       "         slack: array([  0.  , 543.75])\n",
       "        status: 0\n",
       "       success: True\n",
       "         upper:  marginals: array([0., 0.])\n",
       "  residual: array([inf, inf])\n",
       "             x: array([45.  ,  6.25])"
      ]
     },
     "execution_count": 7,
     "metadata": {},
     "output_type": "execute_result"
    }
   ],
   "source": [
    "opt = linprog(c=obj, A_ub=lhs_ineq, b_ub=rhs_ineq,\n",
    "              bounds=bnd,\n",
    "              method='highs')\n",
    "opt"
   ]
  },
  {
   "cell_type": "markdown",
   "id": "b087c6f0",
   "metadata": {},
   "source": [
    "### Result\n",
    "* `x = 45`\n",
    "* `y = 6.25`\n",
    "* `max[z] = 51.25 - 50 = 1.25`"
   ]
  },
  {
   "cell_type": "markdown",
   "id": "bcf73d87",
   "metadata": {},
   "source": [
    "## Nonlinear Programming\n",
    "\n",
    "Nonlinear Programming deals with the problem of optimizing a **nonlinear objective function** subject to nonlinear or linear constraints on the decision variables.\n",
    "\n",
    "## Components of Nonlinear Programming Problem\n",
    "\n",
    " $NLPP = < D, f, F_{c}, C, C_{n}, R, T_{c} >$\n",
    " \n",
    "* $D$ *decision variables* - to be estimated as an output of the NLPP solution\n",
    "* $f$ *objective function* - evaluates the amount by which decision variables would contribute to $min[f(x)]$  or $max[f(x)]$   \n",
    "* $F_{c}$ *objective function coefficients* - amount by which the objective function would change when one decision variable is altered\n",
    "* $C$ *constraints* -  restrictions or limitations of decision variables\n",
    "* $C_{n}$ *non-negative constraints* - decision variables must be positive for both maximization or minimization problems (not a mandatory rule for NLPPs)\n",
    "* $R$ *resource availability* - resource boundaries used to define the constraints $C$\n",
    "* $T_{c}$ *technological coefficients* - coefficients used to define the constraints $C$\n",
    "\n",
    "### NLPP Example \n",
    "Maximize `m𝑎𝑥[𝑧], 𝑧 = 2∗𝑥1 + 𝑥2 − 5∗𝑙𝑜𝑔(𝑥1)∗sin(𝑥2)`\n",
    "\n",
    "Subject to:\n",
    "* `𝑥1 ∗ 𝑥2 ≤ 10`\n",
    "* `|𝑥1 − 𝑥2| ≤ 2`\n",
    "* `0.1 ≤ 𝑥1 ≤ 5`\n",
    "* `0.1 ≤ 𝑥2 ≤ 3`"
   ]
  },
  {
   "cell_type": "markdown",
   "id": "a073afec",
   "metadata": {},
   "source": [
    "* $D$ *decision variables* - `D={x1, x2}`\n",
    "* $f$ *objective function* - `max[z], max[2∗𝑥1 + 𝑥2 − 5∗𝑙𝑜𝑔(𝑥1)∗sin(𝑥2)]`\n",
    "* $F_{c}$ *objective function coefficients* - `Fc = {2:x1, 1:x2, 5:log(x1)∗sin(x2)}`\n",
    "* $C$ *constraints* -  `C = {(x1∗x2≤10),(|𝑥1−𝑥2|≤2), (0.1≤𝑥1≤5), (0.1≤𝑥2≤3)}`\n",
    "* $C_{n}$ *non-negative constraints* - `Cn = {x1≥0, x2≥0}`\n",
    "* $R$ *resource availability* - `R = {10, 2, 0.1, 5, 0.1, 3}`\n",
    "* $T_{c}$ *technological coefficients* - `Tc = {1, 1, 1, -1, 1, 1}`"
   ]
  },
  {
   "cell_type": "markdown",
   "id": "e13ad332",
   "metadata": {},
   "source": [
    "## Nonlinear Programming With Python"
   ]
  },
  {
   "cell_type": "markdown",
   "id": "3560525c",
   "metadata": {},
   "source": [
    "Objective function:\n",
    "* $min[z]$, $z=(x_{1}-1)^{2} + (x_{2}-2.5)^{2}$\n",
    "\n",
    "Subject to:\n",
    "* $x_{1} - 2*x_{2} >= -2$\n",
    "* $-x_{1} - 2*x_{2} >= -6$\n",
    "* $-x_{1} + 2*x_{2} >= -2$\n",
    "* $x_{1} >= 0$\n",
    "* $x_{2} >= 0$"
   ]
  },
  {
   "cell_type": "markdown",
   "id": "8730c9de",
   "metadata": {},
   "source": [
    "We use `scipy.optimize.minimize` function - works on the minimization of a scalar function of one or more variables. There is no `maximize` function."
   ]
  },
  {
   "cell_type": "code",
   "execution_count": 8,
   "id": "13abf9b4",
   "metadata": {},
   "outputs": [],
   "source": [
    "import numpy as np\n",
    "from scipy.optimize import minimize"
   ]
  },
  {
   "cell_type": "markdown",
   "id": "a3856a39",
   "metadata": {},
   "source": [
    "In the following lines of code:\n",
    "\n",
    "<li><b>obj_fun</b>: defines objective function; decision variables x are an array x[]</li>\n",
    "<li><b>A</b>: array of constraint coefficients</li>\n",
    "<li><b>b</b>: array of resource availabilities</li>\n",
    "<li><b>bonds</b>: defines the bounderies of the decision variables, e.g., non-negative constraints for x1 an x2</li>\n",
    "<li><b>xinit</b>: starting point of search</li>"
   ]
  },
  {
   "cell_type": "code",
   "execution_count": 9,
   "id": "8c94bc89",
   "metadata": {},
   "outputs": [],
   "source": [
    "obj_fun = lambda x: (x[0] - 1)**2 + (x[1] - 2.5)**2\n",
    "A = np.array([[1, -2], [-1, -2], [-1, 2]])\n",
    "b = np.array([-2, -6, -2])\n",
    "bnds = [(0, None) for i in range(A.shape[1])]  # x_1 >= 0, x_2 >= 0\n",
    "xinit = [0, 0] "
   ]
  },
  {
   "cell_type": "markdown",
   "id": "40ad290b",
   "metadata": {},
   "source": [
    "Constraints: \n",
    "* in this case, they are linear and we express them as an affine-linear function `A*x-b`\n",
    "* defined as a dictionary where `fun` is a callable function such that `fun >= 0`"
   ]
  },
  {
   "cell_type": "code",
   "execution_count": 10,
   "id": "f538c785",
   "metadata": {},
   "outputs": [],
   "source": [
    "cons = [{'type': 'ineq', 'fun': lambda x:  x[0] - 2 * x[1] + 2},\n",
    "        {'type': 'ineq', 'fun': lambda x: -x[0] - 2 * x[1] + 6},\n",
    "        {'type': 'ineq', 'fun': lambda x: -x[0] + 2 * x[1] + 2}]  #−𝑥1+2∗𝑥2>=−2 --> −𝑥1 + 2 ∗𝑥2 + 2 >= 0"
   ]
  },
  {
   "cell_type": "markdown",
   "id": "23dda93e",
   "metadata": {},
   "source": [
    "When we define the constraints, the type could be either `ineq` or `eq`:\n",
    "```python\n",
    "cons = [{'type': 'ineq', 'fun': lambda x:  x[0] - 2 * x[1] + 2},\n",
    "        {'type': 'eq', 'fun': lambda x: -x[0] - 2 * x[1] + 6}]         \n",
    "```\n",
    "Equality constraint means that the constraint function result is to be zero whereas inequality means that it is to be non-negative."
   ]
  },
  {
   "cell_type": "code",
   "execution_count": 11,
   "id": "21408cdc",
   "metadata": {},
   "outputs": [
    {
     "data": {
      "text/plain": [
       "     fun: 0.799999999999998\n",
       "     jac: array([ 0.79999999, -1.59999999])\n",
       " message: 'Optimization terminated successfully'\n",
       "    nfev: 12\n",
       "     nit: 4\n",
       "    njev: 4\n",
       "  status: 0\n",
       " success: True\n",
       "       x: array([1.39999999, 1.69999999])"
      ]
     },
     "execution_count": 11,
     "metadata": {},
     "output_type": "execute_result"
    }
   ],
   "source": [
    "res = minimize(obj_fun, x0=xinit, bounds=bnds, constraints=cons)\n",
    "res"
   ]
  },
  {
   "cell_type": "markdown",
   "id": "e685bf7e",
   "metadata": {},
   "source": [
    "### Result\n",
    "* `x = 1.39999999`\n",
    "* `y = 1.69999999`\n",
    "* `min[z] = 0.799999999999998`"
   ]
  },
  {
   "cell_type": "markdown",
   "id": "72310b32",
   "metadata": {},
   "source": [
    "### What is the method that has been used?\n",
    "\n",
    "Available methods (solvers):\n",
    "https://docs.scipy.org/doc/scipy/reference/generated/scipy.optimize.minimize.html#scipy.optimize.minimize\n",
    "\n",
    "* Nelder-Mead\n",
    "* Powell\n",
    "* G\n",
    "* BFGS\n",
    "* Newton-CG\n",
    "* L-BFGS-B\n",
    "* TNC\n",
    "* COBYLA\n",
    "* SLSQP\n",
    "* trust-constr\n",
    "* dogleg\n",
    "* trust-ncg\n",
    "* trust-exact\n",
    "* trust-krylov\n",
    "\n",
    "List of parameters:\n",
    "```python\n",
    "def minimize(fun, x0, args=(), method=None, jac=None, hess=None,\n",
    "             hessp=None, bounds=None, constraints=(), tol=None,\n",
    "             callback=None, options=None)\n",
    "```"
   ]
  },
  {
   "cell_type": "markdown",
   "id": "a7c3d004",
   "metadata": {},
   "source": [
    "To extract the method that has been used: "
   ]
  },
  {
   "cell_type": "code",
   "execution_count": 12,
   "id": "88d56319",
   "metadata": {
    "scrolled": true
   },
   "outputs": [
    {
     "name": "stdout",
     "output_type": "stream",
     "text": [
      "SLSQP\n"
     ]
    }
   ],
   "source": [
    "method = None\n",
    "constraints=cons\n",
    "bounds=bnds\n",
    "\n",
    "if method is None:\n",
    "    # Select automatically\n",
    "    if constraints:\n",
    "        method = 'SLSQP'\n",
    "    elif bounds is not None:\n",
    "        method = 'L-BFGS-B'\n",
    "    else:\n",
    "        method = 'BFGS'\n",
    "\n",
    "print(method)"
   ]
  },
  {
   "cell_type": "markdown",
   "id": "857ae393",
   "metadata": {},
   "source": [
    "Let's try another method."
   ]
  },
  {
   "cell_type": "code",
   "execution_count": 13,
   "id": "c65fedf4",
   "metadata": {
    "scrolled": true
   },
   "outputs": [
    {
     "data": {
      "text/plain": [
       "     fun: 0.8000000054738174\n",
       "   maxcv: 0.0\n",
       " message: 'Optimization terminated successfully.'\n",
       "    nfev: 35\n",
       "  status: 1\n",
       " success: True\n",
       "       x: array([1.40006617, 1.70003309])"
      ]
     },
     "execution_count": 13,
     "metadata": {},
     "output_type": "execute_result"
    }
   ],
   "source": [
    "res = minimize(obj_fun, method='COBYLA', x0=xinit, constraints=cons)\n",
    "res"
   ]
  },
  {
   "cell_type": "markdown",
   "id": "d64f6fb8",
   "metadata": {},
   "source": [
    "Note that we removed the bounds, because COBYLA does not support bounds."
   ]
  },
  {
   "cell_type": "code",
   "execution_count": null,
   "id": "a0885a67",
   "metadata": {},
   "outputs": [],
   "source": []
  }
 ],
 "metadata": {
  "kernelspec": {
   "display_name": "Python 3 (ipykernel)",
   "language": "python",
   "name": "python3"
  },
  "language_info": {
   "codemirror_mode": {
    "name": "ipython",
    "version": 3
   },
   "file_extension": ".py",
   "mimetype": "text/x-python",
   "name": "python",
   "nbconvert_exporter": "python",
   "pygments_lexer": "ipython3",
   "version": "3.9.7"
  }
 },
 "nbformat": 4,
 "nbformat_minor": 5
}
